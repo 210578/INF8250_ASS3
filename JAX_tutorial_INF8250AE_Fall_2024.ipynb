{
 "cells": [
  {
   "cell_type": "code",
   "execution_count": null,
   "id": "41ac58b6",
   "metadata": {
    "id": "41ac58b6"
   },
   "source": [
    "import jax"
   ],
   "outputs": []
  },
  {
   "cell_type": "markdown",
   "id": "f84e0451",
   "metadata": {
    "id": "f84e0451"
   },
   "source": [
    "# JAX tutorial"
   ]
  },
  {
   "cell_type": "markdown",
   "id": "a82931f6",
   "metadata": {
    "id": "a82931f6"
   },
   "source": [
    "# Plan"
   ]
  },
  {
   "cell_type": "markdown",
   "id": "e89c79dc",
   "metadata": {
    "id": "e89c79dc"
   },
   "source": [
    "* what is jax?\n",
    "* what is jax in practice?"
   ]
  },
  {
   "cell_type": "markdown",
   "id": "a43efa61",
   "metadata": {
    "id": "a43efa61"
   },
   "source": [
    "# JAX philosophy"
   ]
  },
  {
   "cell_type": "markdown",
   "id": "7fcf99dc",
   "metadata": {
    "id": "7fcf99dc"
   },
   "source": [
    "* What is a good framework for machine learning?"
   ]
  },
  {
   "cell_type": "markdown",
   "id": "c77eab0b",
   "metadata": {
    "id": "c77eab0b"
   },
   "source": [
    "* The one that you don't need to learn!"
   ]
  },
  {
   "cell_type": "markdown",
   "id": "33b90ce3",
   "metadata": {
    "id": "33b90ce3"
   },
   "source": [
    "* Python (i.e. numpy)"
   ]
  },
  {
   "cell_type": "markdown",
   "id": "ab3cc16d",
   "metadata": {
    "id": "ab3cc16d"
   },
   "source": [
    "* Just plain math"
   ]
  },
  {
   "cell_type": "markdown",
   "id": "53cbb84e",
   "metadata": {
    "id": "53cbb84e"
   },
   "source": [
    "# JAX as numpy"
   ]
  },
  {
   "cell_type": "code",
   "execution_count": null,
   "id": "f1fa23b3",
   "metadata": {
    "id": "f1fa23b3"
   },
   "source": [
    "import numpy as np"
   ],
   "outputs": []
  },
  {
   "cell_type": "markdown",
   "id": "ad0f453a",
   "metadata": {
    "id": "ad0f453a"
   },
   "source": [
    "      ↓"
   ]
  },
  {
   "cell_type": "code",
   "execution_count": null,
   "id": "5ffb1085",
   "metadata": {
    "id": "5ffb1085"
   },
   "source": [
    "import jax.numpy as jnp"
   ],
   "outputs": []
  },
  {
   "cell_type": "markdown",
   "id": "e5f24227",
   "metadata": {
    "id": "e5f24227"
   },
   "source": [
    "# Thanks for your attention!"
   ]
  },
  {
   "cell_type": "markdown",
   "id": "7463a3b0",
   "metadata": {
    "id": "7463a3b0"
   },
   "source": [
    "## Any questions?"
   ]
  },
  {
   "cell_type": "markdown",
   "id": "c32e8840",
   "metadata": {
    "id": "c32e8840"
   },
   "source": [
    "# Example 1"
   ]
  },
  {
   "cell_type": "code",
   "execution_count": null,
   "id": "40f55111",
   "metadata": {
    "colab": {
     "base_uri": "https://localhost:8080/"
    },
    "id": "40f55111",
    "outputId": "51559c73-7bd6-43a1-cd3f-cb0799f0f342"
   },
   "source": [
    "a = jnp.ones((2, 8192), dtype=jnp.float32)\n",
    "b = jnp.ones((8192, 4), dtype=jnp.float32)\n",
    "a.dot(b)"
   ],
   "outputs": []
  },
  {
   "cell_type": "markdown",
   "id": "38cde056",
   "metadata": {
    "id": "38cde056"
   },
   "source": [
    "# Example 2: computation devices"
   ]
  },
  {
   "cell_type": "code",
   "execution_count": null,
   "id": "eb9b4047",
   "metadata": {
    "colab": {
     "base_uri": "https://localhost:8080/"
    },
    "id": "eb9b4047",
    "outputId": "10d84026-1c34-482b-8688-3ff18edfc9dc"
   },
   "source": [
    "jax.devices()"
   ],
   "outputs": []
  },
  {
   "cell_type": "markdown",
   "id": "dfd0440e",
   "metadata": {
    "id": "dfd0440e"
   },
   "source": [
    "Let's see what happens in Google Colab"
   ]
  },
  {
   "cell_type": "markdown",
   "id": "6bf7994a",
   "metadata": {
    "id": "6bf7994a"
   },
   "source": [
    "# Example 3: differentiation"
   ]
  },
  {
   "cell_type": "code",
   "execution_count": null,
   "id": "90d8ffb8",
   "metadata": {
    "id": "90d8ffb8"
   },
   "source": [
    "from jax import grad\n",
    "def f(x):\n",
    "    if x > 0:\n",
    "        return x * 2\n",
    "    else:\n",
    "        return x ** 2"
   ],
   "outputs": []
  },
  {
   "cell_type": "code",
   "execution_count": null,
   "id": "8ecb0ed1",
   "metadata": {
    "colab": {
     "base_uri": "https://localhost:8080/"
    },
    "id": "8ecb0ed1",
    "outputId": "4be3c72a-6829-4726-b622-99f1ce2f17ff"
   },
   "source": [
    "print('value', f(3.0), 'gradient', grad(f)(3.0))"
   ],
   "outputs": []
  },
  {
   "cell_type": "code",
   "execution_count": null,
   "id": "200c8b07",
   "metadata": {
    "colab": {
     "base_uri": "https://localhost:8080/"
    },
    "id": "200c8b07",
    "outputId": "33c8b752-eb0b-4661-c679-b6f4c41bdb99"
   },
   "source": [
    "print('value', f(-3.0), 'gradient', grad(f)(-3.0))"
   ],
   "outputs": []
  },
  {
   "cell_type": "markdown",
   "id": "f67c8d60",
   "metadata": {
    "id": "f67c8d60"
   },
   "source": [
    "# What did just happen?"
   ]
  },
  {
   "cell_type": "markdown",
   "id": "e4a30982",
   "metadata": {
    "id": "e4a30982"
   },
   "source": [
    "We **created** a derivative as a **function** and then we evaluated that dervative function  "
   ]
  },
  {
   "cell_type": "markdown",
   "id": "c29958ab",
   "metadata": {
    "id": "c29958ab"
   },
   "source": [
    "![gradient](gradient.png)"
   ]
  },
  {
   "cell_type": "markdown",
   "id": "30214f9e",
   "metadata": {
    "id": "30214f9e"
   },
   "source": [
    "# Automatic differentiation in JAX"
   ]
  },
  {
   "cell_type": "markdown",
   "id": "19478053",
   "metadata": {
    "id": "19478053"
   },
   "source": [
    "* We can differential ANY computation!"
   ]
  },
  {
   "cell_type": "markdown",
   "id": "639d5a7e",
   "metadata": {
    "id": "639d5a7e"
   },
   "source": [
    "* Or can't we?"
   ]
  },
  {
   "cell_type": "markdown",
   "id": "3e103ff3",
   "metadata": {
    "id": "3e103ff3"
   },
   "source": [
    "* What if my code e.g. goes to the internet?"
   ]
  },
  {
   "cell_type": "markdown",
   "id": "952b0349",
   "metadata": {
    "id": "952b0349"
   },
   "source": [
    "# Automatic differentiation in JAX"
   ]
  },
  {
   "cell_type": "markdown",
   "id": "3e1b2c64",
   "metadata": {
    "id": "3e1b2c64"
   },
   "source": [
    "So how can we tell that the computation is differentiable?\n",
    "\n",
    "The answer is..."
   ]
  },
  {
   "cell_type": "markdown",
   "id": "463c8fb8",
   "metadata": {
    "id": "463c8fb8"
   },
   "source": [
    "Functional programming!"
   ]
  },
  {
   "cell_type": "markdown",
   "id": "11c83ffd",
   "metadata": {
    "id": "11c83ffd"
   },
   "source": [
    "# JAX as a functional framework"
   ]
  },
  {
   "cell_type": "markdown",
   "id": "b3568b50",
   "metadata": {
    "id": "b3568b50"
   },
   "source": [
    "For us it’s enough to say that\n",
    "\n",
    "* Functions don’t have side effects - this is what you need to do\n",
    "\n",
    "\n",
    "* Some functions input and output other functions  (e.g. jax.grad) - all of them are implemented by jax\n"
   ]
  },
  {
   "cell_type": "markdown",
   "id": "18d0e836",
   "metadata": {
    "id": "18d0e836"
   },
   "source": [
    "# JAX as a functional framework"
   ]
  },
  {
   "cell_type": "markdown",
   "id": "bc70c9e1",
   "metadata": {
    "id": "bc70c9e1"
   },
   "source": [
    "All functions are \"pure\", i.e. mathematical ones instead of real world impacting ones"
   ]
  },
  {
   "cell_type": "code",
   "execution_count": null,
   "id": "60d6e64f",
   "metadata": {
    "colab": {
     "base_uri": "https://localhost:8080/"
    },
    "id": "60d6e64f",
    "outputId": "10025285-9414-4cc3-fbb4-9a6edbd21030"
   },
   "source": [
    "state = 0\n",
    "# This function is \"impure\"\n",
    "def f(x):\n",
    "    global state\n",
    "    state = state + 1\n",
    "    return state + x\n",
    "print(f(1), f(1))"
   ],
   "outputs": []
  },
  {
   "cell_type": "markdown",
   "id": "61c54884",
   "metadata": {
    "id": "61c54884"
   },
   "source": [
    "# JAX as a functional framework"
   ]
  },
  {
   "cell_type": "code",
   "execution_count": null,
   "id": "18d3dc7f",
   "metadata": {
    "colab": {
     "base_uri": "https://localhost:8080/"
    },
    "id": "18d3dc7f",
    "outputId": "769333fb-b5bc-4c15-b9fa-effdd155d69a"
   },
   "source": [
    "# This function is \"pure\"\n",
    "def f(x):\n",
    "    return x * 2\n",
    "print(f(1), f(1))"
   ],
   "outputs": []
  },
  {
   "cell_type": "code",
   "execution_count": null,
   "id": "78fcc572",
   "metadata": {
    "colab": {
     "base_uri": "https://localhost:8080/"
    },
    "id": "78fcc572",
    "outputId": "a29c1189-b963-4a2e-b74f-8f267e9bf06c"
   },
   "source": [
    "state = 0\n",
    "# This function is also \"pure\"\n",
    "def f(x):\n",
    "    return x + state\n",
    "print(f(1), f(1))"
   ],
   "outputs": []
  },
  {
   "cell_type": "markdown",
   "id": "46e7b4e3",
   "metadata": {
    "id": "46e7b4e3"
   },
   "source": [
    "# JAX as a functional framework"
   ]
  },
  {
   "cell_type": "markdown",
   "id": "2a67393b",
   "metadata": {
    "id": "2a67393b"
   },
   "source": [
    "Any function can be \"purified\". State here is \"how many times we called the function\""
   ]
  },
  {
   "cell_type": "code",
   "execution_count": null,
   "id": "12e6162a",
   "metadata": {
    "id": "12e6162a"
   },
   "source": [
    "state = 0\n",
    "# before\n",
    "def impure_f(x):\n",
    "    global state\n",
    "    state = state + 1\n",
    "\n",
    "    return state, x\n",
    "# after\n",
    "def pure_f(state_, x):\n",
    "    state_ = state_ + 1\n",
    "    return state_, x"
   ],
   "outputs": []
  },
  {
   "cell_type": "code",
   "execution_count": null,
   "id": "679253f5",
   "metadata": {
    "colab": {
     "base_uri": "https://localhost:8080/"
    },
    "id": "679253f5",
    "outputId": "c9aa586c-2181-4e0d-dbd8-049e7f4ce5a9"
   },
   "source": [
    "print('init state', state,\n",
    "      ', first impure call', impure_f(0), ', new_state', state)"
   ],
   "outputs": []
  },
  {
   "cell_type": "markdown",
   "id": "b9fe5080",
   "metadata": {
    "id": "b9fe5080"
   },
   "source": [
    "# JAX as a functional framework"
   ]
  },
  {
   "cell_type": "markdown",
   "id": "45cc9bcf",
   "metadata": {
    "id": "45cc9bcf"
   },
   "source": [
    "Second reason - transformations of computation"
   ]
  },
  {
   "cell_type": "code",
   "execution_count": null,
   "id": "94bb98b9",
   "metadata": {
    "id": "94bb98b9"
   },
   "source": [
    "from jax import grad # differentiation: (f) -> (gradient of f)\n",
    "from jax import jit # speed up or \"compile\" computation: (f) -> (faster f)"
   ],
   "outputs": []
  },
  {
   "cell_type": "markdown",
   "id": "415bdf19",
   "metadata": {
    "id": "415bdf19"
   },
   "source": [
    "These transformations assume pure computation!"
   ]
  },
  {
   "cell_type": "markdown",
   "id": "eb0e8609",
   "metadata": {
    "id": "eb0e8609"
   },
   "source": [
    "# JAX as a functional framework"
   ]
  },
  {
   "cell_type": "markdown",
   "id": "c139d5e5",
   "metadata": {
    "id": "c139d5e5"
   },
   "source": [
    "Let's see what happens if we compile pure and impure functions. The state is \"how many times we called this function\""
   ]
  },
  {
   "cell_type": "code",
   "execution_count": null,
   "id": "8096fac5",
   "metadata": {
    "colab": {
     "base_uri": "https://localhost:8080/"
    },
    "id": "8096fac5",
    "outputId": "373ef959-46c8-4fd3-cc67-005b3af7c85f"
   },
   "source": [
    "print('state', state)\n",
    "fast_impure_f = jit(impure_f)\n",
    "print('first \"impure\" call', fast_impure_f(0)[0], '; second \"impure\" call', fast_impure_f(0)[0])"
   ],
   "outputs": []
  },
  {
   "cell_type": "markdown",
   "id": "2a83c1b4",
   "metadata": {
    "id": "2a83c1b4"
   },
   "source": [
    "The state \"froze\" at its value at the compilation moment!"
   ]
  },
  {
   "cell_type": "markdown",
   "id": "6bfe94c5",
   "metadata": {
    "id": "6bfe94c5"
   },
   "source": [
    "# JAX as a functional framework"
   ]
  },
  {
   "cell_type": "markdown",
   "id": "3436e282",
   "metadata": {
    "id": "3436e282"
   },
   "source": [
    "With pure functions this can be done in \"mathematical\" style"
   ]
  },
  {
   "cell_type": "code",
   "execution_count": null,
   "id": "4d8d159b",
   "metadata": {
    "colab": {
     "base_uri": "https://localhost:8080/"
    },
    "id": "4d8d159b",
    "outputId": "eacecb87-154e-4186-d446-0ef261a6a465"
   },
   "source": [
    "fast_pure_f = jit(pure_f)\n",
    "\n",
    "initial_state = 0\n",
    "first_state, first_result = fast_pure_f(initial_state, 0)\n",
    "second_state, second_result = fast_pure_f(first_state, 0)\n",
    "print('first state', first_state, 'second state', second_state)"
   ],
   "outputs": []
  },
  {
   "cell_type": "markdown",
   "id": "242f27fe",
   "metadata": {
    "id": "242f27fe"
   },
   "source": [
    "# JAX as a functional framework"
   ]
  },
  {
   "cell_type": "markdown",
   "id": "3632a212",
   "metadata": {
    "id": "3632a212"
   },
   "source": [
    "Why do we need this? Jit makes everything very fast!"
   ]
  },
  {
   "cell_type": "code",
   "execution_count": null,
   "id": "5b159381",
   "metadata": {
    "id": "5b159381"
   },
   "source": [
    "def power(a):\n",
    "    accum = a\n",
    "    for j in range(999):\n",
    "        accum = accum.dot(a)\n",
    "    return accum"
   ],
   "outputs": []
  },
  {
   "cell_type": "code",
   "execution_count": null,
   "id": "2618c630",
   "metadata": {
    "colab": {
     "base_uri": "https://localhost:8080/"
    },
    "id": "2618c630",
    "outputId": "bd1d660e-efb4-4b3a-ab14-251d2ff8261c"
   },
   "source": [
    "%%timeit\n",
    "result = power(jnp.eye(5))"
   ],
   "outputs": []
  },
  {
   "cell_type": "code",
   "execution_count": null,
   "id": "cff4bfa0",
   "metadata": {
    "colab": {
     "base_uri": "https://localhost:8080/"
    },
    "id": "cff4bfa0",
    "outputId": "7449bfb8-96b3-43dc-aed6-3104fa2dce53"
   },
   "source": [
    "%%time\n",
    "compiled_power = jit(power)\n",
    "result = compiled_power(jnp.eye(5))"
   ],
   "outputs": []
  },
  {
   "cell_type": "code",
   "execution_count": null,
   "id": "c93b9a50",
   "metadata": {
    "colab": {
     "base_uri": "https://localhost:8080/"
    },
    "id": "c93b9a50",
    "outputId": "599d297d-7809-4229-e642-2e6fc54fe3d7"
   },
   "source": [
    "%%timeit\n",
    "result = compiled_power(jnp.eye(5)).block_until_ready()"
   ],
   "outputs": []
  },
  {
   "cell_type": "markdown",
   "id": "e453fd81",
   "metadata": {
    "id": "e453fd81"
   },
   "source": [
    "# JAX as a functional framework"
   ]
  },
  {
   "cell_type": "markdown",
   "id": "33b0d502",
   "metadata": {
    "id": "33b0d502"
   },
   "source": [
    "Array assignment"
   ]
  },
  {
   "cell_type": "code",
   "execution_count": null,
   "id": "c31eec14",
   "metadata": {
    "id": "c31eec14"
   },
   "source": [
    "a = jnp.zeros((3, 3))\n",
    "# this does not work!\n",
    "# a[:, 2:] = 1"
   ],
   "outputs": []
  },
  {
   "cell_type": "code",
   "execution_count": null,
   "id": "3be1142f",
   "metadata": {
    "colab": {
     "base_uri": "https://localhost:8080/"
    },
    "id": "3be1142f",
    "outputId": "32c44e56-921f-4aad-effb-983d145e48ab"
   },
   "source": [
    "# do this instead\n",
    "a.at[:, 2:].set(1)"
   ],
   "outputs": []
  },
  {
   "cell_type": "markdown",
   "id": "33906c1b",
   "metadata": {
    "id": "33906c1b"
   },
   "source": [
    "**This concept is used in homework, remember it!**"
   ]
  },
  {
   "cell_type": "markdown",
   "id": "580b2fdc",
   "metadata": {
    "id": "580b2fdc"
   },
   "source": [
    "# JAX as a functional framework. Summary:"
   ]
  },
  {
   "cell_type": "markdown",
   "id": "33b98144",
   "metadata": {
    "id": "33b98144"
   },
   "source": [
    "We need the functional paradigm for two reasons:\n",
    "\n",
    "* function compile into fast computation\n",
    "* we can be transformed into other functions"
   ]
  },
  {
   "cell_type": "markdown",
   "id": "8f9e4a13",
   "metadata": {
    "id": "8f9e4a13"
   },
   "source": [
    "# So what is JAX?"
   ]
  },
  {
   "cell_type": "markdown",
   "id": "1c00261f",
   "metadata": {
    "id": "1c00261f"
   },
   "source": [
    "JAX is\n",
    "* JIT compilation\n",
    "* Autodiff\n",
    "* XLA"
   ]
  },
  {
   "cell_type": "markdown",
   "id": "32a974ef",
   "metadata": {
    "id": "32a974ef"
   },
   "source": [
    "# Questions of Part 1?"
   ]
  },
  {
   "cell_type": "markdown",
   "id": "8041e02d",
   "metadata": {
    "id": "8041e02d"
   },
   "source": [
    "# Part two: JAX in practice"
   ]
  },
  {
   "cell_type": "markdown",
   "id": "e9d65bd9",
   "metadata": {
    "id": "e9d65bd9"
   },
   "source": [
    "Let's build a neural network!"
   ]
  },
  {
   "cell_type": "markdown",
   "id": "a9be7c40",
   "metadata": {
    "id": "a9be7c40"
   },
   "source": [
    "# Random numbers in JAX"
   ]
  },
  {
   "cell_type": "code",
   "source": [
    "def getRandomNumber() -> int:\n",
    "  return 4 # I tossed a fair dice so this number is random!"
   ],
   "metadata": {
    "id": "JzpykjYTPuSm"
   },
   "id": "JzpykjYTPuSm",
   "execution_count": null,
   "outputs": []
  },
  {
   "cell_type": "markdown",
   "id": "eef32ded",
   "metadata": {
    "id": "eef32ded"
   },
   "source": [
    "# Random numbers in JAX"
   ]
  },
  {
   "cell_type": "markdown",
   "id": "a6792bca",
   "metadata": {
    "id": "a6792bca"
   },
   "source": [
    "We use \"random states\" (or keys) for random numbers"
   ]
  },
  {
   "cell_type": "code",
   "execution_count": null,
   "id": "39dabe22",
   "metadata": {
    "colab": {
     "base_uri": "https://localhost:8080/"
    },
    "id": "39dabe22",
    "outputId": "6699d676-899e-4027-fdba-127639c08d11"
   },
   "source": [
    "key = jax.random.key(43)\n",
    "sample = jax.random.randint(key, shape=(1,), minval=0, maxval=6)\n",
    "print(sample)"
   ],
   "outputs": []
  },
  {
   "cell_type": "markdown",
   "id": "49e1c4c8",
   "metadata": {
    "id": "49e1c4c8"
   },
   "source": [
    "Let's draw one more sample"
   ]
  },
  {
   "cell_type": "code",
   "execution_count": null,
   "id": "d6a42b12",
   "metadata": {
    "colab": {
     "base_uri": "https://localhost:8080/"
    },
    "id": "d6a42b12",
    "outputId": "06908abb-7f28-49d9-e82e-dec5ae1b838b"
   },
   "source": [
    "sample = jax.random.randint(key, shape=(1,), minval=0, maxval=6)\n",
    "print(sample)"
   ],
   "outputs": []
  },
  {
   "cell_type": "markdown",
   "id": "941961e4",
   "metadata": {
    "id": "941961e4"
   },
   "source": [
    "# Random generators are pure functions!"
   ]
  },
  {
   "cell_type": "markdown",
   "id": "37f04739",
   "metadata": {
    "id": "37f04739"
   },
   "source": [
    "# Random numbers in JAX"
   ]
  },
  {
   "cell_type": "code",
   "execution_count": null,
   "id": "44c80cf3",
   "metadata": {
    "id": "44c80cf3"
   },
   "source": [
    "def roll_dice(key, maxval):\n",
    "    key, subkey = jax.random.split(key, 2)\n",
    "    sample = jax.random.randint(subkey, shape=(1,), minval=0, maxval=maxval)\n",
    "    return key, sample"
   ],
   "outputs": []
  },
  {
   "cell_type": "code",
   "execution_count": null,
   "id": "145c27f0",
   "metadata": {
    "colab": {
     "base_uri": "https://localhost:8080/"
    },
    "id": "145c27f0",
    "outputId": "0f6df869-c5a0-49fe-cdad-321687737d94"
   },
   "source": [
    "key = jax.random.key(43)\n",
    "first_key, first_sample = roll_dice(key, maxval=6)\n",
    "print('first sample', first_sample)\n",
    "second_key, second_sample = roll_dice(first_key, maxval=6)\n",
    "print('second sample', second_sample)"
   ],
   "outputs": []
  },
  {
   "cell_type": "markdown",
   "id": "0170c47c",
   "metadata": {
    "id": "0170c47c"
   },
   "source": [
    "# Random numbers in JAX"
   ]
  },
  {
   "cell_type": "markdown",
   "id": "f6367e20",
   "metadata": {
    "id": "f6367e20"
   },
   "source": [
    "As you can see, we use the same principle for stateful computations:"
   ]
  },
  {
   "cell_type": "markdown",
   "id": "5dd446a9",
   "metadata": {
    "id": "5dd446a9"
   },
   "source": [
    "`previous_state, input -> f -> new_state, output`"
   ]
  },
  {
   "cell_type": "markdown",
   "id": "3940e22c",
   "metadata": {
    "id": "3940e22c"
   },
   "source": [
    "# VMAP in JAX"
   ]
  },
  {
   "cell_type": "markdown",
   "id": "93fd8caa",
   "metadata": {
    "id": "93fd8caa"
   },
   "source": [
    "This is the most powerful transformation in jax"
   ]
  },
  {
   "cell_type": "markdown",
   "id": "a6b60de2",
   "metadata": {
    "id": "a6b60de2"
   },
   "source": [
    "Roughly speaking, vmap is\n",
    "\n",
    "say we have $f : \\mathbb{R} \\rightarrow \\mathbb{R}$\n",
    "\n",
    "then $\\text{vmap}(f) : \\mathbb{R}^n \\rightarrow \\mathbb{R}^n$\n",
    "\n",
    "such that $f(x_k) = \\text{vmap}(f)(x)_k $"
   ]
  },
  {
   "cell_type": "markdown",
   "id": "088e91ee",
   "metadata": {
    "id": "088e91ee"
   },
   "source": [
    "vmap **vectorizes the computation**"
   ]
  },
  {
   "cell_type": "markdown",
   "id": "e1b11d9e",
   "metadata": {
    "id": "e1b11d9e"
   },
   "source": [
    "# VMAP Example"
   ]
  },
  {
   "cell_type": "code",
   "execution_count": null,
   "id": "0aba4c57",
   "metadata": {
    "id": "0aba4c57"
   },
   "source": [
    "def inner_prod(a, b):\n",
    "    return (a * b).sum()"
   ],
   "outputs": []
  },
  {
   "cell_type": "code",
   "execution_count": null,
   "id": "c1c573e8",
   "metadata": {
    "colab": {
     "base_uri": "https://localhost:8080/"
    },
    "id": "c1c573e8",
    "outputId": "30c4d633-136b-4a70-d190-b06c8e08e2d0"
   },
   "source": [
    "a = jnp.ones((3,))\n",
    "b = jnp.ones((3,))\n",
    "print(inner_prod(a, b))"
   ],
   "outputs": []
  },
  {
   "cell_type": "code",
   "execution_count": null,
   "id": "c58c8153",
   "metadata": {
    "colab": {
     "base_uri": "https://localhost:8080/"
    },
    "id": "c58c8153",
    "outputId": "7acc4683-34fd-457d-ee75-ef119cc8b6a0"
   },
   "source": [
    "# inner_prod - a : (n,) b : (n,) -> (1,)\n",
    "matrix_matrix_prod = jax.vmap(inner_prod)\n",
    "# matrix_matrix_prod - a : (m, n) b : (m, n) -> (m,)\n",
    "matrix_matrix_prod(jnp.ones((3, 4)), jnp.ones((3, 4)))"
   ],
   "outputs": []
  },
  {
   "cell_type": "code",
   "execution_count": null,
   "id": "c5ab1ff1",
   "metadata": {
    "colab": {
     "base_uri": "https://localhost:8080/"
    },
    "id": "c5ab1ff1",
    "outputId": "e993c25e-c251-4ef8-f2f1-0e5cc3dae042"
   },
   "source": [
    "# inner_prod - a : (n,) b : (n,) -> (1,)\n",
    "matrix_vector_prod = jax.vmap(inner_prod, in_axes=(0, None), out_axes=0)\n",
    "# matrix_vector_prod - a : (m, n) b : (n,) -> (m,)\n",
    "matrix_matrix_prod = jax.vmap(matrix_vector_prod, in_axes=(None, 1), out_axes=1)\n",
    "# matrix_matrix_prod - a : (m, n) b : (n, k) -> (m, k)\n",
    "matrix_matrix_prod(jnp.ones((3, 4)), jnp.ones((4, 3)))"
   ],
   "outputs": []
  },
  {
   "cell_type": "code",
   "execution_count": null,
   "id": "c9a8bdc9",
   "metadata": {
    "colab": {
     "base_uri": "https://localhost:8080/"
    },
    "id": "c9a8bdc9",
    "outputId": "f70761f8-4426-4522-e0c1-7c7eeb326d55"
   },
   "source": [
    "# compare that with a proper dot product\n",
    "jnp.ones((3, 4)) @ jnp.ones((4, 3))"
   ],
   "outputs": []
  },
  {
   "cell_type": "markdown",
   "id": "d0886eb2",
   "metadata": {
    "id": "d0886eb2"
   },
   "source": [
    "# Sharp bits of VMAP"
   ]
  },
  {
   "cell_type": "markdown",
   "id": "4194d097",
   "metadata": {
    "id": "4194d097"
   },
   "source": [
    "Can we vmap `if`?"
   ]
  },
  {
   "cell_type": "markdown",
   "id": "a759ed4c",
   "metadata": {
    "id": "a759ed4c"
   },
   "source": [
    "This does not work automatically - we need to reduce it to array manipulation!"
   ]
  },
  {
   "cell_type": "code",
   "execution_count": null,
   "id": "3e8aaca2",
   "metadata": {
    "id": "3e8aaca2"
   },
   "source": [
    "# before\n",
    "def f(x): # x can only be scalar here\n",
    "    if x > 0:\n",
    "        return x * 2\n",
    "    else:\n",
    "        return x ** 2\n",
    "# after\n",
    "def f(x):\n",
    "    return jnp.where(x > 0, x * 2, x ** 2)"
   ],
   "outputs": []
  },
  {
   "cell_type": "markdown",
   "id": "cac9ad97",
   "metadata": {
    "id": "cac9ad97"
   },
   "source": [
    "**You'll need to use this idea in homework, remember it!**"
   ]
  },
  {
   "cell_type": "markdown",
   "id": "f91bba86",
   "metadata": {
    "id": "f91bba86"
   },
   "source": [
    "# Now let's solve something real!"
   ]
  },
  {
   "cell_type": "markdown",
   "id": "2b987b6b",
   "metadata": {
    "id": "2b987b6b"
   },
   "source": [
    "Least squares problem\n",
    "$$ \\arg\\min_{x} \\|A x - b\\|_2$$\n",
    "Through optimization, where $A \\in \\mathbb{R}^{n,m}; x \\in \\mathbb{R}^{m}; b \\in \\mathbb{R}^{n}$"
   ]
  },
  {
   "cell_type": "code",
   "execution_count": null,
   "id": "e4c17973",
   "metadata": {
    "colab": {
     "base_uri": "https://localhost:8080/"
    },
    "id": "e4c17973",
    "outputId": "9fe3790f-036f-4266-a259-914f5d500502"
   },
   "source": [
    "# create target values and oracle solution\n",
    "key = jax.random.key(1)\n",
    "\n",
    "key, subkey = jax.random.split(key, 2)\n",
    "A = jax.random.normal(subkey, shape=(3,3))\n",
    "A += jnp.eye(3) * 5 # make the optimization well conditioned\n",
    "\n",
    "key, subkey = jax.random.split(key, 2)\n",
    "b = jax.random.normal(subkey, shape=(3,)) + 1\n",
    "\n",
    "# oracle solution\n",
    "x_oracle, _, _, _ = np.linalg.lstsq(A, b)"
   ],
   "outputs": []
  },
  {
   "cell_type": "code",
   "execution_count": null,
   "id": "3ea31123",
   "metadata": {
    "id": "3ea31123"
   },
   "source": [
    "key, subkey = jax.random.split(key, 2)\n",
    "X = jax.random.normal(subkey, shape=(3,))\n",
    "\n",
    "@jax.jit\n",
    "def update_step(X, A, b):\n",
    "    def objective(x):\n",
    "        # A - [n, m], x - [m], b - [n]\n",
    "        residual = A.dot(x) - b\n",
    "        return (residual ** 2).sum() ** 0.5\n",
    "    criterion, gradient = jax.value_and_grad(objective)(X)\n",
    "    X = X - 0.0001 * gradient\n",
    "    return X, criterion"
   ],
   "outputs": []
  },
  {
   "cell_type": "code",
   "execution_count": null,
   "id": "a839cd17",
   "metadata": {
    "colab": {
     "base_uri": "https://localhost:8080/"
    },
    "id": "a839cd17",
    "outputId": "5a26360a-523d-4a9d-e307-9d522a6aeee9"
   },
   "source": [
    "from tqdm import tqdm\n",
    "for _ in tqdm(range(10000)):\n",
    "    X, loss = update_step(X, A, b)\n",
    "print(loss)"
   ],
   "outputs": []
  },
  {
   "cell_type": "code",
   "execution_count": null,
   "id": "cbe18ab9",
   "metadata": {
    "colab": {
     "base_uri": "https://localhost:8080/"
    },
    "id": "cbe18ab9",
    "outputId": "531077a8-7f2a-4b7a-84d5-a1557e662108"
   },
   "source": [
    "print('oracle solution', x_oracle, '\\njax optimization solution', X)\n",
    "print('diff', x_oracle - X)"
   ],
   "outputs": []
  },
  {
   "cell_type": "markdown",
   "id": "4e9ea04e",
   "metadata": {
    "id": "4e9ea04e"
   },
   "source": [
    "# Now let's solve something even more real!"
   ]
  },
  {
   "cell_type": "code",
   "execution_count": null,
   "id": "90442b15",
   "metadata": {
    "colab": {
     "base_uri": "https://localhost:8080/"
    },
    "id": "90442b15",
    "outputId": "e14da927-27e8-4da4-b2a2-ef2b724680b4"
   },
   "source": [
    "import keras\n",
    "(x_train, y_train), (x_test, y_test) = keras.datasets.mnist.load_data()\n",
    "print('train input shape:', x_train.shape)\n",
    "print('train output shape:', y_train.shape)\n",
    "print('test input shape:', x_test.shape)\n",
    "print('test output shape:', y_test.shape)"
   ],
   "outputs": []
  },
  {
   "cell_type": "code",
   "execution_count": null,
   "id": "7f052534",
   "metadata": {
    "colab": {
     "base_uri": "https://localhost:8080/",
     "height": 447
    },
    "id": "7f052534",
    "outputId": "86644aec-b2a7-42e7-fb37-3f21f0dc3acd"
   },
   "source": [
    "import matplotlib.pyplot as plt\n",
    "plt.imshow(x_train[101])"
   ],
   "outputs": []
  },
  {
   "cell_type": "code",
   "execution_count": null,
   "id": "557ccf81",
   "metadata": {
    "id": "557ccf81"
   },
   "source": [
    "import flax.linen as nn # for neural networks\n",
    "import optax # for optimization\n",
    "from functools import partial"
   ],
   "outputs": []
  },
  {
   "cell_type": "markdown",
   "id": "78eb5d53",
   "metadata": {
    "id": "78eb5d53"
   },
   "source": [
    "## Define Neural Network"
   ]
  },
  {
   "cell_type": "code",
   "execution_count": null,
   "id": "280a9f8b",
   "metadata": {
    "id": "280a9f8b"
   },
   "source": [
    "class CNN(nn.Module):\n",
    "    num_features: int = 32\n",
    "    @nn.compact\n",
    "    def __call__(self, x):\n",
    "        x = nn.Conv(features=self.num_features, kernel_size=(3, 3))(x)\n",
    "        x = nn.relu(x)\n",
    "        x = nn.Conv(features=self.num_features, kernel_size=(3, 3))(x)\n",
    "        x = nn.relu(x)\n",
    "        x = x.reshape((x.shape[0], -1))  # flatten\n",
    "        x = nn.Dense(features=10)(x) # logits for softmax\n",
    "        return x"
   ],
   "outputs": []
  },
  {
   "cell_type": "code",
   "execution_count": null,
   "id": "c92aa5a0",
   "metadata": {
    "id": "c92aa5a0"
   },
   "source": [
    "model = CNN()\n",
    "dummy_input = jnp.ones((1, 28, 28, 1))  # (N, H, W, C) format\n",
    "# initialize\n",
    "key = jax.random.key(0)\n",
    "key, subkey = jax.random.split(key, 2)\n",
    "parameters = model.init(subkey, dummy_input)"
   ],
   "outputs": []
  },
  {
   "cell_type": "markdown",
   "id": "3a30e29e",
   "metadata": {
    "id": "3a30e29e"
   },
   "source": [
    "What does `model` hold?"
   ]
  },
  {
   "cell_type": "code",
   "execution_count": null,
   "id": "02bd8f68",
   "metadata": {
    "colab": {
     "base_uri": "https://localhost:8080/"
    },
    "id": "02bd8f68",
    "outputId": "615a062a-b2de-4b78-8acb-cdd261c3ca36"
   },
   "source": [
    "model"
   ],
   "outputs": []
  },
  {
   "cell_type": "markdown",
   "id": "51d0cc82",
   "metadata": {
    "id": "51d0cc82"
   },
   "source": [
    "What does `parameters` hold?"
   ]
  },
  {
   "cell_type": "code",
   "execution_count": null,
   "id": "8b0186a3",
   "metadata": {
    "scrolled": true,
    "colab": {
     "base_uri": "https://localhost:8080/"
    },
    "id": "8b0186a3",
    "outputId": "611d849a-d92b-4563-a6f5-e538808ee451"
   },
   "source": [
    "parameters"
   ],
   "outputs": []
  },
  {
   "cell_type": "markdown",
   "id": "93fd6abe",
   "metadata": {
    "id": "93fd6abe"
   },
   "source": [
    "how jax manipulates them?"
   ]
  },
  {
   "cell_type": "code",
   "execution_count": null,
   "id": "cd6ee4b0",
   "metadata": {
    "scrolled": true,
    "colab": {
     "base_uri": "https://localhost:8080/"
    },
    "id": "cd6ee4b0",
    "outputId": "e333d44a-a4d1-434e-8e26-471893169fda"
   },
   "source": [
    "jax.tree.map(lambda x: x+ 100, parameters)"
   ],
   "outputs": []
  },
  {
   "cell_type": "markdown",
   "id": "8a83d082",
   "metadata": {
    "id": "8a83d082"
   },
   "source": [
    "Jax treats all python objects as either arrays or PyTrees (e.g. dicts of arrays)"
   ]
  },
  {
   "cell_type": "markdown",
   "id": "26d7da65",
   "metadata": {
    "id": "26d7da65"
   },
   "source": [
    "`jax.tree.map` is a convenient way for PyTree manipulation.\n",
    "**Note that you'll need to use this function in homework!!!**"
   ]
  },
  {
   "cell_type": "markdown",
   "id": "c545bf8f",
   "metadata": {
    "id": "c545bf8f"
   },
   "source": [
    "we can combine two or more PyTrees of the same structure."
   ]
  },
  {
   "cell_type": "code",
   "execution_count": null,
   "id": "0ed6cb16",
   "metadata": {
    "scrolled": true,
    "colab": {
     "base_uri": "https://localhost:8080/"
    },
    "id": "0ed6cb16",
    "outputId": "3abb5ae2-9bd6-4b66-acfc-5f54ffb0f236"
   },
   "source": [
    "jax.tree.map(lambda x, y: x + y, parameters, parameters)"
   ],
   "outputs": []
  },
  {
   "cell_type": "markdown",
   "id": "53f08194",
   "metadata": {
    "id": "53f08194"
   },
   "source": [
    "Run prediction on an untrained network"
   ]
  },
  {
   "cell_type": "code",
   "execution_count": null,
   "id": "149909be",
   "metadata": {
    "colab": {
     "base_uri": "https://localhost:8080/"
    },
    "id": "149909be",
    "outputId": "934985bb-a0c5-4635-9cbc-90bbf2ba8f4c"
   },
   "source": [
    "model.apply(parameters, dummy_input)\n",
    "# maps (28, 28) image into a 10-dimensional vector"
   ],
   "outputs": []
  },
  {
   "cell_type": "markdown",
   "id": "638106a2",
   "metadata": {
    "id": "638106a2"
   },
   "source": [
    "## Create optimizer"
   ]
  },
  {
   "cell_type": "code",
   "execution_count": null,
   "id": "1dd8dbd7",
   "metadata": {
    "id": "1dd8dbd7"
   },
   "source": [
    "optimizer = optax.sgd(learning_rate=1e-3) # stochastic gradient descent"
   ],
   "outputs": []
  },
  {
   "cell_type": "markdown",
   "id": "c4e1289a",
   "metadata": {
    "id": "c4e1289a"
   },
   "source": [
    "## Create Training State"
   ]
  },
  {
   "cell_type": "code",
   "execution_count": null,
   "id": "4b3c6c60",
   "metadata": {
    "id": "4b3c6c60"
   },
   "source": [
    "from flax.training.train_state import TrainState\n",
    "\n",
    "state = TrainState.create(\n",
    "    apply_fn=model.apply, # specify how to run inference in neural net\n",
    "    params=parameters,\n",
    "    tx=optimizer,\n",
    ")"
   ],
   "outputs": []
  },
  {
   "cell_type": "markdown",
   "id": "d9c20863",
   "metadata": {
    "id": "d9c20863"
   },
   "source": [
    "## Define one training step"
   ]
  },
  {
   "cell_type": "code",
   "execution_count": null,
   "id": "6869245a",
   "metadata": {
    "id": "6869245a"
   },
   "source": [
    "@jax.jit\n",
    "def train_step(state, x, y):\n",
    "    def loss_fn(params, local_x, local_y):\n",
    "        preds = state.apply_fn(params, local_x)\n",
    "        loss_batch = optax.softmax_cross_entropy_with_integer_labels(preds, local_y)\n",
    "        return loss_batch.mean() # compute average loss on a batch\n",
    "    loss, grads = jax.value_and_grad(loss_fn)(state.params, x, y)\n",
    "    state = state.apply_gradients(grads=grads)\n",
    "    return state, loss"
   ],
   "outputs": []
  },
  {
   "cell_type": "markdown",
   "id": "3881077c",
   "metadata": {
    "id": "3881077c"
   },
   "source": [
    "## Define one evaluation step"
   ]
  },
  {
   "cell_type": "code",
   "execution_count": null,
   "id": "582e7766",
   "metadata": {
    "id": "582e7766"
   },
   "source": [
    "@jax.jit\n",
    "def eval_model(state, x, y):\n",
    "    def loss(params, local_x, local_y):\n",
    "        preds = state.apply_fn(params, local_x)\n",
    "        loss = optax.softmax_cross_entropy_with_integer_labels(preds, local_y)\n",
    "        accuracy = (preds.argmax(axis=1) == y)\n",
    "        return loss.mean(), accuracy.mean() # compute average loss on a batch\n",
    "    loss, accuracy = loss(state.params, x, y)\n",
    "    return state, loss, accuracy"
   ],
   "outputs": []
  },
  {
   "cell_type": "markdown",
   "id": "ef315e23",
   "metadata": {
    "id": "ef315e23"
   },
   "source": [
    "# Run Training!"
   ]
  },
  {
   "cell_type": "code",
   "execution_count": null,
   "id": "f7940f0c",
   "metadata": {
    "colab": {
     "base_uri": "https://localhost:8080/"
    },
    "id": "f7940f0c",
    "outputId": "dd6bd724-c158-4639-cf87-2324e5c5e16f"
   },
   "source": [
    "BATCH = 500\n",
    "import math\n",
    "for epoch in range(100):\n",
    "    print('epoch', epoch)\n",
    "    key, subkey = jax.random.split(key, 2)\n",
    "    permutation = jax.random.permutation(subkey, len(x_train))\n",
    "    epoch_x = x_train[permutation]\n",
    "    epoch_y = y_train[permutation]\n",
    "    for step in tqdm(range(len(x_train) // BATCH)): # be careful here, make sure to round up the number of steps\n",
    "        batch_x = epoch_x[step * BATCH: (step + 1) * BATCH][..., None] / 255.\n",
    "        batch_y = epoch_y[step * BATCH: (step + 1) * BATCH]#[..., None]\n",
    "        state, loss = train_step(state, batch_x, batch_y)\n",
    "    _, test_loss, test_acc = eval_model(state, x_test[..., None] / 255., y_test)\n",
    "    print(test_loss, test_acc)"
   ],
   "outputs": []
  },
  {
   "cell_type": "markdown",
   "id": "a7904115",
   "metadata": {
    "id": "a7904115"
   },
   "source": [
    "# It works!"
   ]
  },
  {
   "cell_type": "markdown",
   "id": "be34f420",
   "metadata": {
    "id": "be34f420"
   },
   "source": [
    "# The last two concepts for today: scanning and dataclasses"
   ]
  },
  {
   "cell_type": "markdown",
   "id": "12bb7917",
   "metadata": {
    "id": "12bb7917"
   },
   "source": [
    "Run the computation through the sequence of inputs \"carrying\" the state"
   ]
  },
  {
   "cell_type": "code",
   "execution_count": null,
   "id": "471ad88a",
   "metadata": {
    "colab": {
     "base_uri": "https://localhost:8080/"
    },
    "id": "471ad88a",
    "outputId": "a7ecb0c4-80d0-48a7-f039-db7b748ee631"
   },
   "source": [
    "state = jax.random.key(0)\n",
    "inputs = jnp.arange(10) + 1 # from 1 to 10\n",
    "def f(state, inp):\n",
    "    state, current_key = jax.random.split(state, 2)\n",
    "    return state, jax.random.randint(current_key, shape=(1,), minval=0, maxval=inp)\n",
    "last_state, outputs = jax.lax.scan(f, state, inputs)\n",
    "outputs.squeeze()"
   ],
   "outputs": []
  },
  {
   "cell_type": "code",
   "execution_count": null,
   "id": "52754688",
   "metadata": {
    "colab": {
     "base_uri": "https://localhost:8080/"
    },
    "id": "52754688",
    "outputId": "36d891bc-3399-44e2-ba59-dbdfee729908"
   },
   "source": [
    "# equivalent code\n",
    "state = jax.random.key(0)\n",
    "inputs = jnp.arange(10) + 1 # from 1 to 10\n",
    "outputs = []\n",
    "for j in range(len(inputs)):\n",
    "    state, output = f(state, inputs[j])\n",
    "    outputs.append(output)\n",
    "outputs = jnp.stack(outputs)\n",
    "outputs.squeeze()"
   ],
   "outputs": []
  },
  {
   "cell_type": "markdown",
   "id": "a58ee1c4",
   "metadata": {
    "id": "a58ee1c4"
   },
   "source": [
    "In practice, people `scan` over:\n",
    "* train steps of neural net (i.e. the state is `TrainState`)\n",
    "* layers of neural network (the state is the activation vector)\n",
    "* sequences of random variable samples (the state is the random state)\n",
    "* RL environment stepping (the state is the state of MDP)\n",
    "* recurrent steps of recurrent neural networks (the state is the hidden state vector of RNN)\n",
    "\n",
    "We'll see examples of this in homework (don't worry you won't need to implement any scan)"
   ]
  },
  {
   "cell_type": "markdown",
   "source": [
    "Dataclasses are simply containers for arrays and functions (we've seen one already - it is `TrainState` in `flax`, and **any class inherited from TrainState**)"
   ],
   "metadata": {
    "id": "23_zFlPL1w6b"
   },
   "id": "23_zFlPL1w6b"
  },
  {
   "cell_type": "code",
   "source": [
    "import chex\n",
    "from typing import Callable\n",
    "\n",
    "@chex.dataclass(frozen=True)\n",
    "class MyStorage:\n",
    "  array_a: chex.Array\n",
    "  array_b: chex.Array\n",
    "  my_function: Callable"
   ],
   "metadata": {
    "id": "DrtfDPGR1vBr"
   },
   "id": "DrtfDPGR1vBr",
   "execution_count": null,
   "outputs": []
  },
  {
   "cell_type": "markdown",
   "source": [
    "Dataclasses can be updated vie the `replace` method"
   ],
   "metadata": {
    "id": "CSo4mo0w1zkW"
   },
   "id": "CSo4mo0w1zkW"
  },
  {
   "cell_type": "code",
   "source": [
    "storage = MyStorage(array_a=jnp.zeros(5), array_b=jnp.ones(2), my_function=lambda x: x)\n",
    "updated_storage = storage.replace(array_a=jnp.ones(5))\n",
    "print('old storage', storage)\n",
    "print('updated storage', updated_storage)"
   ],
   "metadata": {
    "id": "3FBCewjB1xya"
   },
   "id": "3FBCewjB1xya",
   "execution_count": null,
   "outputs": []
  },
  {
   "cell_type": "markdown",
   "id": "02f17f0d",
   "metadata": {
    "id": "02f17f0d"
   },
   "source": [
    "# That's it!\n",
    "\n",
    "# Congrats, you now know jax! See you on the exam"
   ]
  },
  {
   "cell_type": "markdown",
   "id": "77d81425",
   "metadata": {
    "id": "77d81425"
   },
   "source": [
    "Fun facts about jax:"
   ]
  },
  {
   "cell_type": "markdown",
   "id": "beae8cf4",
   "metadata": {
    "id": "beae8cf4"
   },
   "source": [
    "* JAX is very popular tool for reinforcement learning since it can speedup and parallelize the whole training\n",
    "  * Neural net can be in jax\n",
    "  * RL environment can be literally written in jax\n",
    "  * the whole reinforcement learning can be JIT-ed as `prev_agent, environment -> RL -> new_agent, final_return`"
   ]
  },
  {
   "cell_type": "markdown",
   "id": "3b1e0c58",
   "metadata": {
    "id": "3b1e0c58"
   },
   "source": [
    "* Gemini model created by Google is trained in implemeted and trained with pure jax, since jax abstractions work well for large scale distributed training  "
   ]
  },
  {
   "cell_type": "markdown",
   "id": "b6d0f3f4",
   "metadata": {
    "id": "b6d0f3f4"
   },
   "source": [
    "* Even though it can't differentiate every computation, it can for computations we do in practice. You can compute the gradient of the final training loss after 100 epochs of training w.r.t learning rate (you'll run out of memory though, but this is another problem)"
   ]
  },
  {
   "cell_type": "markdown",
   "id": "7934aa50",
   "metadata": {
    "id": "7934aa50"
   },
   "source": [
    "# Summary"
   ]
  },
  {
   "cell_type": "markdown",
   "id": "e490fef2",
   "metadata": {
    "id": "e490fef2"
   },
   "source": [
    "* Jax is a functional programming framework"
   ]
  },
  {
   "cell_type": "markdown",
   "id": "ae478863",
   "metadata": {
    "id": "ae478863"
   },
   "source": [
    "* It offer a variety of computation transformations, including automatic differentiation, vectorization, and compilation"
   ]
  },
  {
   "cell_type": "markdown",
   "id": "a60ddf3b",
   "metadata": {
    "id": "a60ddf3b"
   },
   "source": [
    "* stateful computations are done via explicit \"scanning\" of state data: `f: (state, input) -> (state, output)`"
   ]
  }
 ],
 "metadata": {
  "celltoolbar": "Slideshow",
  "kernelspec": {
   "display_name": "Python 3",
   "name": "python3"
  },
  "language_info": {
   "codemirror_mode": {
    "name": "ipython",
    "version": 3
   },
   "file_extension": ".py",
   "mimetype": "text/x-python",
   "name": "python",
   "nbconvert_exporter": "python",
   "pygments_lexer": "ipython3",
   "version": "3.12.7"
  },
  "colab": {
   "provenance": [],
   "gpuType": "T4"
  },
  "accelerator": "GPU"
 },
 "nbformat": 4,
 "nbformat_minor": 5
}
